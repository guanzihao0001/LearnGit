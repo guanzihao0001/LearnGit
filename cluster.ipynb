{
  "nbformat": 4,
  "nbformat_minor": 0,
  "metadata": {
    "kernelspec": {
      "display_name": "Python 3",
      "language": "python",
      "name": "python3"
    },
    "language_info": {
      "codemirror_mode": {
        "name": "ipython",
        "version": 3
      },
      "file_extension": ".py",
      "mimetype": "text/x-python",
      "name": "python",
      "nbconvert_exporter": "python",
      "pygments_lexer": "ipython3",
      "version": "3.8.3"
    },
    "colab": {
      "name": "谱聚类.ipynb",
      "provenance": []
    }
  },
  "cells": [
    {
      "cell_type": "markdown",
      "metadata": {
        "id": "O4uCTtxXXJ7X"
      },
      "source": [
        "# Spectral clustering"
      ]
    },
    {
      "cell_type": "markdown",
      "metadata": {
        "id": "KeJDzVljXJ7b"
      },
      "source": [
        "Using the spectral clustering, firstly，we should calcule the distance between two points."
      ]
    },
    {
      "cell_type": "code",
      "metadata": {
        "id": "9eHhA2n5XJ7c"
      },
      "source": [
        "import numpy as np\n",
        "from sklearn import preprocessing\n",
        "import matplotlib.pyplot as plt\n",
        "from sklearn.cluster import SpectralClustering\n",
        "\n",
        "def distance_euclid(v1, v2):\n",
        "    return np.sqrt(sum(np.power(v1 - v2, 2)))\n"
      ],
      "execution_count": null,
      "outputs": []
    },
    {
      "cell_type": "markdown",
      "metadata": {
        "id": "WEDuawkqXJ7d"
      },
      "source": [
        "Secondly, we use the data of each personne and let them as a tuple. Then we should normalize these datas. "
      ]
    },
    {
      "cell_type": "code",
      "metadata": {
        "id": "RLUO1tRvXJ7e",
        "outputId": "b8ed0087-2445-40ed-9c87-69ede3413eb6"
      },
      "source": [
        "dataset_all = np.loadtxt(\"phpOJxGL9.csv\", delimiter=\",\", unpack=True, dtype=str)\n",
        "\n",
        "dataset = dataset_all[:9, 1:]\n",
        "dataset = dataset.astype(np.float)\n",
        "dataset = dataset.T\n",
        "dataset = preprocessing.MinMaxScaler().fit_transform(dataset)  # Normalisation\n",
        "print(dataset)"
      ],
      "execution_count": null,
      "outputs": [
        {
          "name": "stdout",
          "output_type": "stream",
          "text": [
            "[[0.70930233 1.         0.00402145 ... 0.00162635 0.5942029  0.52173913]\n",
            " [0.6744186  0.         0.14075067 ... 0.0182964  0.69565217 0.5       ]\n",
            " [0.6744186  0.         0.0924933  ... 0.01179101 0.62318841 0.52173913]\n",
            " ...\n",
            " [0.55813953 0.         0.00536193 ... 0.00792844 0.53623188 0.5       ]\n",
            " [0.31395349 0.         0.01206434 ... 0.00447245 0.5942029  0.54347826]\n",
            " [0.39534884 0.         0.0080429  ... 0.00284611 0.66666667 0.76086957]]\n"
          ]
        }
      ]
    },
    {
      "cell_type": "markdown",
      "metadata": {
        "id": "SXQAobqTXJ7f"
      },
      "source": [
        "Then we should make a matrix which contains the distance among the points. The matirx is called Euclidian distance matrix."
      ]
    },
    {
      "cell_type": "code",
      "metadata": {
        "id": "YSdYGA49XJ7f"
      },
      "source": [
        "def matrix_distance_euclid(dataset):\n",
        "    M = np.zeros((len(dataset), len(dataset)))\n",
        "    for i in range(len(dataset)):\n",
        "        for j in range(i + 1, len(dataset)):\n",
        "            M[i][j] = distance_euclid(dataset[i], dataset[j])\n",
        "            M[j][i] = M[i][j]\n",
        "    return M"
      ],
      "execution_count": null,
      "outputs": []
    },
    {
      "cell_type": "markdown",
      "metadata": {
        "id": "Wd9xRcQWXJ7g"
      },
      "source": [
        "En suite, on peut obtenir un adjacency matrix W。Use the KNN algorithm to traverse all the sample points,and take the $k$ nearest points of each sample as the nearest neighbors,and only the k points closet to the sample are $W_{ij}=exp(-\\frac{||x_{i}-x_{j}||^2}{(2\\sigma)^2})$"
      ]
    },
    {
      "cell_type": "code",
      "metadata": {
        "id": "hjpwf9tBXJ7g"
      },
      "source": [
        "def matrix_adjacent(mde, dataset, k=53, sigma=0.15):  # KNN\n",
        "    M = np.zeros((len(mde), len(mde)))\n",
        "    for i in range((len(mde))):\n",
        "        distance_i = zip(mde[i], range(len(mde)))\n",
        "        distance_i = sorted(distance_i, key=lambda x: x[0])\n",
        "        neighbors = [distance_i[m][1] for m in range(k + 1)]\n",
        "\n",
        "        for j in neighbors:\n",
        "            M[i][j] = np.exp(-sum(np.power(dataset[i] - dataset[j], 2)) / (2 * sigma ** 2))\n",
        "            M[j][i] = M[i][j]\n",
        "    return M"
      ],
      "execution_count": null,
      "outputs": []
    },
    {
      "cell_type": "markdown",
      "metadata": {
        "id": "I9SJp47rXJ7h"
      },
      "source": [
        "Après, on peut obtenir un matrix laplacien.\n",
        "$ L=D-W $\n",
        "Dans ce cas, on peut obtenir n valeurs propres qui sont positives.标准化后拉普拉斯矩阵：\n",
        "$ D^{-1}LD^{-1} $"
      ]
    },
    {
      "cell_type": "code",
      "metadata": {
        "id": "Is9R7EJ7XJ7h"
      },
      "source": [
        "def matrix_laplacian(ma):\n",
        "    matrix_degree = np.diag(np.sum(ma, axis=0))\n",
        "\n",
        "    ml = matrix_degree - ma\n",
        "\n",
        "    # Normalisation\n",
        "    ml_N = np.dot(np.dot(np.linalg.inv(matrix_degree) ** 0.5, ml), np.linalg.inv(matrix_degree) ** 0.5)\n",
        "    # ml_N = np.dot(np.linalg.inv(matrix_degree), ml)\n",
        "    return ml_N"
      ],
      "execution_count": null,
      "outputs": []
    },
    {
      "cell_type": "code",
      "metadata": {
        "id": "HvNZRsOzXJ7h",
        "outputId": "e5b76598-c081-4373-c65b-4e31f51bc621"
      },
      "source": [
        "m, n = dataset.shape\n",
        "mde = matrix_distance_euclid(dataset)\n",
        "ma = matrix_adjacent(mde, dataset, 53, 0.15)\n",
        "ml = matrix_laplacian(ma)\n",
        "print(mde)\n",
        "print(ma)\n",
        "print(ml)"
      ],
      "execution_count": null,
      "outputs": [
        {
          "name": "stdout",
          "output_type": "stream",
          "text": [
            "[[0.         1.08166674 1.03635717 ... 1.01381081 1.07578223 1.0776502 ]\n",
            " [1.08166674 0.         0.15370525 ... 0.42396743 0.53623823 0.53958514]\n",
            " [1.03635717 0.15370525 0.         ... 0.28829836 0.44056239 0.44727523]\n",
            " ...\n",
            " [1.01381081 0.42396743 0.28829836 ... 0.         0.25719282 0.33468017]\n",
            " [1.07578223 0.53623823 0.44056239 ... 0.25719282 0.         0.24396447]\n",
            " [1.0776502  0.53958514 0.44727523 ... 0.33468017 0.24396447 0.        ]]\n",
            "[[1.         0.         0.         ... 0.         0.         0.        ]\n",
            " [0.         1.         0.59155139 ... 0.         0.         0.        ]\n",
            " [0.         0.59155139 1.         ... 0.         0.         0.        ]\n",
            " ...\n",
            " [0.         0.         0.         ... 1.         0.         0.        ]\n",
            " [0.         0.         0.         ... 0.         1.         0.        ]\n",
            " [0.         0.         0.         ... 0.         0.         1.        ]]\n",
            "[[ 0.94644395  0.          0.         ...  0.          0.\n",
            "   0.        ]\n",
            " [ 0.          0.85153075 -0.05437764 ...  0.          0.\n",
            "   0.        ]\n",
            " [ 0.         -0.05437764  0.94308599 ...  0.          0.\n",
            "   0.        ]\n",
            " ...\n",
            " [ 0.          0.          0.         ...  0.98248302  0.\n",
            "   0.        ]\n",
            " [ 0.          0.          0.         ...  0.          0.97808503\n",
            "   0.        ]\n",
            " [ 0.          0.          0.         ...  0.          0.\n",
            "   0.97355302]]\n"
          ]
        }
      ]
    },
    {
      "cell_type": "markdown",
      "metadata": {
        "id": "cVhr2CpzXJ7i"
      },
      "source": [
        "Calculer la matrice de contiguité W par sélectionner la fonction noyau gaussienne."
      ]
    },
    {
      "cell_type": "code",
      "metadata": {
        "id": "wTf_IHRsXJ7i",
        "outputId": "2926d3e0-8db7-41fd-b5b9-a33daa0b1f5f"
      },
      "source": [
        "num = []\n",
        "eigenvalues, eigenvectors = np.linalg.eig(ml)\n",
        "eigenvectors = np.abs(eigenvectors)\n",
        "print(eigenvectors)"
      ],
      "execution_count": null,
      "outputs": [
        {
          "name": "stdout",
          "output_type": "stream",
          "text": [
            "[[3.29217843e-03 2.86758390e-03 3.31408677e-03 ... 5.96503733e-16\n",
            "  1.62226363e-14 1.19487669e-14]\n",
            " [9.71679464e-18 3.16536959e-17 4.52790392e-17 ... 1.27233744e-13\n",
            "  6.10874929e-12 3.41836204e-12]\n",
            " [2.22683159e-17 1.35159163e-17 3.32455402e-18 ... 2.11099442e-12\n",
            "  2.32164204e-11 1.40082091e-11]\n",
            " ...\n",
            " [8.19132248e-18 6.75862455e-17 6.88801739e-17 ... 2.96187692e-11\n",
            "  3.12770518e-11 2.73110490e-12]\n",
            " [3.20623569e-17 6.37124694e-17 7.61741258e-17 ... 2.93918785e-10\n",
            "  4.16664499e-10 3.13657288e-11]\n",
            " [2.69558459e-17 5.87603355e-17 7.30469256e-17 ... 9.30825013e-11\n",
            "  1.23440454e-10 5.19217308e-12]]\n"
          ]
        }
      ]
    },
    {
      "cell_type": "markdown",
      "metadata": {
        "id": "_vpp7KOdXJ7j"
      },
      "source": [
        "Dans la fonction ici, on peut calculer les valeurs propres et les vecteurs propres de la matrice laplacienne"
      ]
    },
    {
      "cell_type": "code",
      "metadata": {
        "id": "YGTAxgOlXJ7j",
        "outputId": "a932e8c9-ab44-40df-d527-9a61ea623be1"
      },
      "source": [
        "from sklearn.cluster import KMeans\n",
        "sp = KMeans(n_clusters=4).fit(eigenvectors)\n",
        "kl = sp.labels_\n",
        "cluster = np.unique(kl)\n",
        "print(kl)"
      ],
      "execution_count": null,
      "outputs": [
        {
          "name": "stdout",
          "output_type": "stream",
          "text": [
            "[3 2 0 0 0 0 3 3 0 0 0 0 0 3 0 0 0 0 3 3 0 0 0 0 0 1 1 1 2 1 0 0 0 3 3 0 3\n",
            " 1 0 0 0 0 0 0 1 0 0 1 3 2 3 3 0 0 2 2 0 3 0 0 3 0 0 0 0 0 0 0 0 0 3 3 3 0\n",
            " 0 3 0 1 0 1 1 0 0 0 0 0 0 0 0 0 0 0 2 0 0 0 0 2 0 0 2 0 0 3 0 0 0 0 0 0 3\n",
            " 0 0 0 0 1 1 1 1 1 2 2 0 3 0 0 0 0 1 0 0 3 3 0 0 1 3 0 0 0 0 1 0 0 3 0 3 0\n",
            " 0 0 0 0 3 0 0 0 0 0 0 0 2 2 0 0 0 0 1 3 1 2 0 3 2 0 0 0 0 1 2 2 2 2 2 0 0\n",
            " 0 2 0 2 3 0 0 0 0 0 2 0 3 0 1 0 0 3 0 0 0 0 1 3 3 0 0 0 3 0 0 0 0 2 0 0 0\n",
            " 0 0 0 0 0 3 3 0 0 0 0 1 3 0 0 3 3 0 0 0 3 1 0 0 2 0 0 0 0 0 0 3 3 2 2 0 0\n",
            " 2 2 2 0 3 0 0 0 3 2 2 2 2 1 2 0 0 0 0 0 3 0 0 0 0 0 0 3 0 3 0 3 0 0 0 0 0\n",
            " 3 3 3 3 0 3 3 0 3 3 0 0 3 3 0 1 0 3 0 0 0 0 0 0 3 3 0 0 0 0 3 0 0 0 0 0 0\n",
            " 3 3 1 2 0 0 0 0 3 0 0 0 0 0 0 0 3 0 0 3 3 3 0 0 0 0 1 0 3 0 3 0 0 0 0 3 3\n",
            " 1 0 2 3 3 0 0 3 3 0 0 0 3 3 0 0 0 0 0 0 0 0 0 0 3 0 0 0 0 0 3 2 3 0 0 3 0\n",
            " 2 0 0 2 3 0 0 0 2 2 0 0 1 1 0 0 0 3 0 0 0 3 1 3 3 0 3 3 3 0 0 2 3 3 3 1 3\n",
            " 0 0 0 1 3 3 0 0 2 0 0 3 0 0 2 2 3 3 0 0 3 3 3 3 0 0 0 3 0 0 0 0 0 0 2 2 0\n",
            " 0 0 0 0 1 3 0 0 0 3 0 1 0 0 0 0 0 0 0 0 0 0 2 2 2 2 0 2 2 3 0 0 0 0 0 0 0\n",
            " 0 1 0 0 3 0 0 3 0 0 0 0 3 1 0 1 0 2 2 3 0 3 0 0 0 0 3 3 2 1 0 1 0 0 0 0 0\n",
            " 0 0 0 0 1 2 2 2 0 3 2 3 0 1 2 0 2 1 2 2 1 2 2 0 0 0 0 0]\n"
          ]
        }
      ]
    },
    {
      "cell_type": "markdown",
      "metadata": {
        "id": "H-EuuKaSXJ7k"
      },
      "source": [
        "Afficher à quel cluster chaque point appartient"
      ]
    },
    {
      "cell_type": "code",
      "metadata": {
        "id": "0zzp5xbMXJ7k",
        "outputId": "1f88c210-8b86-4da3-d272-e2f0278301a9"
      },
      "source": [
        "for i in cluster:\n",
        "    num.append(np.sum(kl == i))\n",
        "print(num)"
      ],
      "execution_count": null,
      "outputs": [
        {
          "name": "stdout",
          "output_type": "stream",
          "text": [
            "[353, 46, 66, 118]\n"
          ]
        }
      ]
    }
  ]
}